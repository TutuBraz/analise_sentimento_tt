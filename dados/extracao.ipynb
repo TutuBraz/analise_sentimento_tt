{
 "cells": [
  {
   "attachments": {},
   "cell_type": "markdown",
   "metadata": {},
   "source": [
    "Atributos que serão coletados.\n",
    "\n",
    "1.  date: Data da publicação do tweet\n",
    "2.  name: Contém o nome da usuário que postou o tweet\n",
    "3.  description: Contém a descrição do usuário do tweet\n",
    "4.  location: Localização no qual foi postado o tweet\n",
    "5.  text - Conteúdo postado do tweet"
   ]
  },
  {
   "attachments": {},
   "cell_type": "markdown",
   "metadata": {},
   "source": [
    "Para aquisição dos dados foi feito a busca pela palavras boticário e os nomes das marcas da perfumario do Boticário. Algumas marcas tem um nome muito comum o que faz que a raspagem de tweets busque tweets fora do contexto do projeto, por exemplo a linha Coffee, pensando nisso para burlar esse problema utilizarei a palavra perfume na frente das palavras com nomes comuns. "
   ]
  },
  {
   "cell_type": "code",
   "execution_count": null,
   "metadata": {},
   "outputs": [],
   "source": [
    "import snscrape.modules.twitter as sntwitter"
   ]
  },
  {
   "cell_type": "code",
   "execution_count": null,
   "metadata": {},
   "outputs": [],
   "source": [
    "keywords =['boticario','Malbec','perfume Alchemist','The Blend','perfume Zaad','perfume Quasar','Egeo','Dr. Botica','perfume Sophie',\n",
    "           'perfume Capricho','Nativa Spa','Floratta','perfume Glamour','perfume Lily','BotiCollection','Elysée','perfume Celebre','perfume Liz',\n",
    "           'perfume Connexion','perfume Coffee','perfume Linda','perfume Men','Accordes','Arbo','Portinari','Styletto','Uomini','perfume Insensatez','perfume Dream','Botica 214',\n",
    "           'Boti Baby','perfume Make B.']\n",
    "\n",
    "tweets_list = []\n",
    "    \n",
    "for word in keywords:\n",
    "    maxTweets = 5000\n",
    "    query = f'{word} lang:pt since:2022-06-06 until:2022-06-19'\n",
    "    \n",
    "    for tweet in sntwitter.TwitterSearchScraper(query).get_items():\n",
    "        tweets_list.append([tweet.date, tweet.likeCount, tweet.user.username,tweet.user.location, tweet.content])\n",
    "        if len(tweets_list) >= maxTweets:\n",
    "            break\n",
    "\n",
    "df = pd.DataFrame(tweets_list, columns=['date', 'likes', 'user','location', 'text'])\n",
    "df"
   ]
  },
  {
   "cell_type": "code",
   "execution_count": null,
   "metadata": {},
   "outputs": [],
   "source": [
    "#salvando df\n",
    "df.to_csv('tweets_raw.csv', index=False)"
   ]
  }
 ],
 "metadata": {
  "language_info": {
   "name": "python"
  },
  "orig_nbformat": 4
 },
 "nbformat": 4,
 "nbformat_minor": 2
}
